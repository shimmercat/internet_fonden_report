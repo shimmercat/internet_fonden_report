{
 "cells": [
  {
   "cell_type": "code",
   "execution_count": 1,
   "metadata": {
    "collapsed": false
   },
   "outputs": [],
   "source": [
    "%matplotlib inline\n",
    "\n",
    "import json\n",
    "import os.path\n",
    "import sys\n",
    "import glob\n",
    "import re\n",
    "from urllib import parse as up\n",
    "import pickle\n",
    "\n",
    "from bs4 import BeautifulSoup"
   ]
  },
  {
   "cell_type": "code",
   "execution_count": 2,
   "metadata": {
    "collapsed": true
   },
   "outputs": [],
   "source": [
    "HTML_FILE_LOCATION=\"../data/ncsi-1.html\"\n",
    "HTML_FILE_LOCATION_PATTERN=\"../data/ncsi-*.html\""
   ]
  },
  {
   "cell_type": "code",
   "execution_count": 3,
   "metadata": {
    "collapsed": false,
    "scrolled": true
   },
   "outputs": [],
   "source": [
    "class IteratedMeter(object):\n",
    "    \"\"\"\n",
    "    Firefox is rather flimsy when reporting its opinion of digests\n",
    "    \"\"\"\n",
    "    \n",
    "    def __init__(self):\n",
    "        self.origin2count = {}\n",
    "        self.seen = set()\n",
    "        \n",
    "    def assimilate(self, filename):\n",
    "        data_contents = open(filename, 'r')\n",
    "        soup = BeautifulSoup(data_contents, 'html.parser')\n",
    "        tbody = soup.find_all(\"tbody\")\n",
    "        newly_assimilated = 0\n",
    "        origin2count = self.origin2count\n",
    "        for (i,tr) in enumerate( tbody[1].find_all(\"tr\") ):\n",
    "            tds = list( tr.find_all(\"td\") )\n",
    "            url = str( tds[0].contents[0].string )\n",
    "            parsed_tp = up.urlparse(url)\n",
    "                    #print(\"pair: \" , pn, parsed_tp.netloc, \"a: \", href)\n",
    "            netloc = parsed_tp.netloc\n",
    "            if re.match(\"^[0-9]+$\", netloc):\n",
    "                pass \n",
    "            elif netloc not in ('', None) and parsed_tp.scheme in (\"http\", \"https\"):\n",
    "                if url not in self.seen:\n",
    "                    newly_assimilated += 1\n",
    "                    self.seen.add(url)\n",
    "                    count = origin2count.setdefault(netloc, 0)\n",
    "                    count += 1 \n",
    "                    origin2count[netloc] = count\n",
    "            else:\n",
    "                pass\n",
    "        print(\"Newly assimilated: \", newly_assimilated)\n",
    "        \n",
    "    def stats(self):\n",
    "        count_origin = [ (count, origin) for (origin, count) in self.origin2count.items() ]\n",
    "        count_origin.sort( key=(lambda x: -x[0]))\n",
    "        return count_origin"
   ]
  },
  {
   "cell_type": "code",
   "execution_count": 24,
   "metadata": {
    "collapsed": false
   },
   "outputs": [
    {
     "name": "stdout",
     "output_type": "stream",
     "text": [
      "Newly assimilated:  722\n",
      "Newly assimilated:  0\n",
      "Newly assimilated:  659\n",
      "Newly assimilated:  0\n",
      "Newly assimilated:  379\n",
      "Newly assimilated:  0\n",
      "Newly assimilated:  8\n",
      "Newly assimilated:  0\n",
      "Newly assimilated:  0\n",
      "Newly assimilated:  390\n",
      "Newly assimilated:  461\n",
      "Newly assimilated:  0\n",
      "Newly assimilated:  0\n",
      "Newly assimilated:  0\n"
     ]
    }
   ],
   "source": [
    "iterated_meter = IteratedMeter()\n",
    "for filename in glob.glob(HTML_FILE_LOCATION_PATTERN):\n",
    "    iterated_meter.assimilate(filename)"
   ]
  },
  {
   "cell_type": "code",
   "execution_count": 51,
   "metadata": {
    "collapsed": false
   },
   "outputs": [
    {
     "name": "stdout",
     "output_type": "stream",
     "text": [
      "[(164, 'apx.moatads.com'), (113, 'bonanzleimages.s3.amazonaws.com'), (76, 'cdn.salehoo.com'), (67, 'www.shimmercat.com'), (63, 'pagead2.googlesyndication.com'), (62, 'v4.moatads.com'), (57, 'www.salehoo.com'), (54, 'img0.etsystatic.com'), (52, 'srv-2016-06-27-11.pixel.parsely.com'), (52, 'img1.etsystatic.com')]\n"
     ]
    }
   ],
   "source": [
    "im_stats=iterated_meter.stats()\n",
    "print( im_stats[:10] )"
   ]
  },
  {
   "cell_type": "code",
   "execution_count": 52,
   "metadata": {
    "collapsed": true
   },
   "outputs": [],
   "source": [
    "from matplotlib import pyplot as plt\n",
    "import pandas as pd"
   ]
  },
  {
   "cell_type": "code",
   "execution_count": 56,
   "metadata": {
    "collapsed": false
   },
   "outputs": [
    {
     "data": {
      "text/plain": [
       "'<table border=\"1\" class=\"dataframe\">\\n  <thead>\\n    <tr style=\"text-align: right;\">\\n      <th></th>\\n      <th>0</th>\\n      <th>1</th>\\n    </tr>\\n  </thead>\\n  <tbody>\\n    <tr>\\n      <th>0</th>\\n      <td>164</td>\\n      <td>apx.moatads.com</td>\\n    </tr>\\n    <tr>\\n      <th>1</th>\\n      <td>113</td>\\n      <td>bonanzleimages.s3.amazonaws.com</td>\\n    </tr>\\n    <tr>\\n      <th>2</th>\\n      <td>76</td>\\n      <td>cdn.salehoo.com</td>\\n    </tr>\\n    <tr>\\n      <th>3</th>\\n      <td>67</td>\\n      <td>www.shimmercat.com</td>\\n    </tr>\\n    <tr>\\n      <th>4</th>\\n      <td>63</td>\\n      <td>pagead2.googlesyndication.com</td>\\n    </tr>\\n    <tr>\\n      <th>5</th>\\n      <td>62</td>\\n      <td>v4.moatads.com</td>\\n    </tr>\\n    <tr>\\n      <th>6</th>\\n      <td>57</td>\\n      <td>www.salehoo.com</td>\\n    </tr>\\n    <tr>\\n      <th>7</th>\\n      <td>54</td>\\n      <td>img0.etsystatic.com</td>\\n    </tr>\\n    <tr>\\n      <th>8</th>\\n      <td>52</td>\\n      <td>srv-2016-06-27-11.pixel.parsely.com</td>\\n    </tr>\\n    <tr>\\n      <th>9</th>\\n      <td>52</td>\\n      <td>img1.etsystatic.com</td>\\n    </tr>\\n  </tbody>\\n</table>'"
      ]
     },
     "execution_count": 56,
     "metadata": {},
     "output_type": "execute_result"
    }
   ],
   "source": [
    "frame = pd.DataFrame(im_stats[:10])\n",
    "frame.to_html()"
   ]
  },
  {
   "cell_type": "code",
   "execution_count": 26,
   "metadata": {
    "collapsed": true
   },
   "outputs": [],
   "source": [
    "import numpy as np"
   ]
  },
  {
   "cell_type": "code",
   "execution_count": 27,
   "metadata": {
    "collapsed": false
   },
   "outputs": [],
   "source": [
    "arr = np.array([x[0] for x in im_stats])"
   ]
  },
  {
   "cell_type": "code",
   "execution_count": 47,
   "metadata": {
    "collapsed": false
   },
   "outputs": [
    {
     "data": {
      "text/plain": [
       "2619"
      ]
     },
     "execution_count": 47,
     "metadata": {},
     "output_type": "execute_result"
    }
   ],
   "source": [
    "np.sum(arr)"
   ]
  },
  {
   "cell_type": "code",
   "execution_count": 48,
   "metadata": {
    "collapsed": false
   },
   "outputs": [
    {
     "data": {
      "text/plain": [
       "364"
      ]
     },
     "execution_count": 48,
     "metadata": {},
     "output_type": "execute_result"
    }
   ],
   "source": [
    "len(arr)"
   ]
  },
  {
   "cell_type": "code",
   "execution_count": null,
   "metadata": {
    "collapsed": true
   },
   "outputs": [],
   "source": []
  },
  {
   "cell_type": "code",
   "execution_count": 28,
   "metadata": {
    "collapsed": true
   },
   "outputs": [],
   "source": []
  },
  {
   "cell_type": "code",
   "execution_count": 29,
   "metadata": {
    "collapsed": false
   },
   "outputs": [
    {
     "data": {
      "text/plain": [
       "(array([ 253.,   84.,   26.]),\n",
       " array([  1,   5,  25, 125]),\n",
       " <a list of 3 Patch objects>)"
      ]
     },
     "execution_count": 29,
     "metadata": {},
     "output_type": "execute_result"
    },
    {
     "data": {
      "image/png": "[encoded data removed]",
      "text/plain": [
       "<matplotlib.figure.Figure at 0x7fae44193128>"
      ]
     },
     "metadata": {},
     "output_type": "display_data"
    }
   ],
   "source": [
    "fig = plt.figure()\n",
    "ax = fig.add_subplot(111)\n",
    "ax.hist(arr, bins=[1, 5, 25, 125])"
   ]
  },
  {
   "cell_type": "code",
   "execution_count": 35,
   "metadata": {
    "collapsed": false
   },
   "outputs": [
    {
     "data": {
      "text/plain": [
       "(array([253,  51,  37,  17,   5,   1]),\n",
       " array([  0,   5,  10,  30,  60, 120, 180]))"
      ]
     },
     "execution_count": 35,
     "metadata": {},
     "output_type": "execute_result"
    }
   ],
   "source": [
    "hst = np.histogram(arr,bins=[0,5,10,30,60,120,180])\n",
    "hst"
   ]
  },
  {
   "cell_type": "code",
   "execution_count": 46,
   "metadata": {
    "collapsed": false
   },
   "outputs": [
    {
     "data": {
      "text/plain": [
       "([<matplotlib.patches.Wedge at 0x7fae4f8f0f98>,\n",
       "  <matplotlib.patches.Wedge at 0x7fae44624da0>,\n",
       "  <matplotlib.patches.Wedge at 0x7fae3e2936d8>,\n",
       "  <matplotlib.patches.Wedge at 0x7fae4f8cddd8>,\n",
       "  <matplotlib.patches.Wedge at 0x7fae3e0ad048>,\n",
       "  <matplotlib.patches.Wedge at 0x7fae4f8e1c88>],\n",
       " [<matplotlib.text.Text at 0x7fae44624ac8>,\n",
       "  <matplotlib.text.Text at 0x7fae446240f0>,\n",
       "  <matplotlib.text.Text at 0x7fae4f8cd3c8>,\n",
       "  <matplotlib.text.Text at 0x7fae4f8cda58>,\n",
       "  <matplotlib.text.Text at 0x7fae3e0ad828>,\n",
       "  <matplotlib.text.Text at 0x7fae4f8d5e10>])"
      ]
     },
     "execution_count": 46,
     "metadata": {},
     "output_type": "execute_result"
    },
    {
     "data": {
      "image/png": "[encoded data removed]",
      "text/plain": [
       "<matplotlib.figure.Figure at 0x7fae4f8157f0>"
      ]
     },
     "metadata": {},
     "output_type": "display_data"
    }
   ],
   "source": [
    "fig = plt.figure()\n",
    "ax = fig.add_subplot(111)\n",
    "labels = [ (str(hst[1][i]) + \" -- \" + str(hst[1][i+1])) for (i,x) in enumerate(hst[0])]\n",
    "ax.pie(hst[0], labels=labels, labeldistance=1.4)"
   ]
  },
  {
   "cell_type": "code",
   "execution_count": 50,
   "metadata": {
    "collapsed": false
   },
   "outputs": [
    {
     "data": {
      "text/plain": [
       "(364, array([ 69.50549451,  14.01098901,  10.16483516,   4.67032967,\n",
       "          1.37362637,   0.27472527]), array([  0,   5,  10,  30,  60, 120, 180]))"
      ]
     },
     "execution_count": 50,
     "metadata": {},
     "output_type": "execute_result"
    }
   ],
   "source": [
    "hst_arr = np.array(hst[0])\n",
    "sm = np.sum(hst_arr)\n",
    "percents = hst_arr / sm * 100\n",
    "(sm, percents, hst[1])"
   ]
  },
  {
   "cell_type": "code",
   "execution_count": 20,
   "metadata": {
    "collapsed": false
   },
   "outputs": [],
   "source": [
    "df = pd.DataFrame(im_stats)"
   ]
  },
  {
   "cell_type": "code",
   "execution_count": 23,
   "metadata": {
    "collapsed": false
   },
   "outputs": [
    {
     "data": {
      "text/plain": [
       "count    333.000000\n",
       "mean       6.480480\n",
       "std       14.528029\n",
       "min        1.000000\n",
       "25%        1.000000\n",
       "50%        2.000000\n",
       "75%        6.000000\n",
       "max      164.000000\n",
       "Name: 0, dtype: float64"
      ]
     },
     "execution_count": 23,
     "metadata": {},
     "output_type": "execute_result"
    }
   ],
   "source": [
    "df[0].describe()"
   ]
  },
  {
   "cell_type": "code",
   "execution_count": null,
   "metadata": {
    "collapsed": true
   },
   "outputs": [],
   "source": []
  }
 ],
 "metadata": {
  "kernelspec": {
   "display_name": "Python 3",
   "language": "python",
   "name": "python3"
  },
  "language_info": {
   "codemirror_mode": {
    "name": "ipython",
    "version": 3
   },
   "file_extension": ".py",
   "mimetype": "text/x-python",
   "name": "python",
   "nbconvert_exporter": "python",
   "pygments_lexer": "ipython3",
   "version": "3.4.3"
  }
 },
 "nbformat": 4,
 "nbformat_minor": 0
}
