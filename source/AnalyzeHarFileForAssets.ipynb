{
 "cells": [
  {
   "cell_type": "code",
   "execution_count": 1,
   "metadata": {
    "collapsed": true
   },
   "outputs": [],
   "source": [
    "import json\n",
    "import os.path\n",
    "import sys\n",
    "import glob\n",
    "import re\n",
    "from urllib import parse as up\n",
    "\n",
    "from bs4 import BeautifulSoup\n"
   ]
  },
  {
   "cell_type": "code",
   "execution_count": 8,
   "metadata": {
    "collapsed": false
   },
   "outputs": [],
   "source": [
    "DATA_LOCATION=\"../data/1/\"\n",
    "\n",
    "def mkfilepath(name):\n",
    "    return os.path.join(DATA_LOCATION, name+\".har\")\n",
    "\n",
    "def load_har(name):\n",
    "    filename = mkfilepath(name)\n",
    "    return json.load(open(filename))\n",
    "\n",
    "def enumerate_dataset_1():\n",
    "    for fname in glob.glob(DATA_LOCATION+\"*.har\"):\n",
    "        yield fname\n",
    "    \n",
    "\n",
    "def about(obj):\n",
    "    if isinstance(obj, list):\n",
    "        return \"<list of length {0}>\".format(len(obj))\n",
    "    elif isinstance(obj, dict):\n",
    "        r = \"{\"\n",
    "        is_first = True\n",
    "        for k in obj.keys():\n",
    "            if is_first:\n",
    "                is_first = False\n",
    "            else:\n",
    "                r += \", \"\n",
    "            r +=  k + \": ...\"\n",
    "        r += \"}\"\n",
    "        return r\n",
    "    \n",
    "def get_first_entry_content(obj):\n",
    "    probe_entries = 5\n",
    "    entry_total = len(obj['log']['entries'])\n",
    "    for i in range(max(probe_entries, entry_total)):\n",
    "        if obj['log']['entries'][i]['response']['status'] in (301, 302):\n",
    "            continue\n",
    "        cnt = obj['log']['entries'][i]['response']['content']\n",
    "        if cnt['mimeType'] == 'text/html':\n",
    "            return cnt['text']\n",
    "                   \n",
    "def get_soup(obj):\n",
    "    contents = get_first_entry_content(obj)\n",
    "    soup = BeautifulSoup(contents, 'html.parser')              \n",
    "    return soup\n",
    "\n",
    "def count_links_on_top(soup):\n",
    "    head = soup.head \n",
    "    return len(head.find_all('link')) + len(head.find_all('script', src=re.compile(\".\")))\n",
    "\n",
    "def purename(domain_name):\n",
    "    domain_parts = domain_name.split('.')\n",
    "    if len( domain_parts ) == 2:\n",
    "        return domain_parts[1]\n",
    "    elif len(domain_parts ) == 3:\n",
    "        return domain_parts[1]\n",
    "    elif len(domain_parts) == 1:\n",
    "        return domain_parts[0]\n",
    "    else:\n",
    "        raise ValueError(\"Domain {0} makes no sense to purename\".format(domain_name))\n",
    "\n",
    "def count_body_links(soup, origin_domain):\n",
    "    result = 0\n",
    "    pn = purename(origin_domain)\n",
    "    body = soup.body\n",
    "    for (tagname, dattr) in [ (\"img\", \"src\"), (\"link\", \"href\"), ('script', 'src')]:\n",
    "        v = body.find_all(tagname, **{dattr :re.compile('.')})\n",
    "        \n",
    "        for item in v:\n",
    "            href = item[dattr]\n",
    "            parsed_tp = up.urlparse(href)\n",
    "            #print(\"pair: \" , pn, parsed_tp.netloc, \"a: \", href)\n",
    "            if parsed_tp.netloc in ('', None) or pn in parsed_tp.netloc:\n",
    "                result += 1\n",
    "        \n",
    "    return result"
   ]
  },
  {
   "cell_type": "code",
   "execution_count": 9,
   "metadata": {
    "collapsed": false
   },
   "outputs": [
    {
     "name": "stdout",
     "output_type": "stream",
     "text": [
      "20 7\n",
      "5 34\n",
      "10 1\n",
      "1 3\n",
      "8 12\n",
      "2 182\n",
      "2 1\n",
      "24 35\n",
      "3 6\n",
      "13 45\n",
      "9 2\n",
      "12 11\n",
      "16 6\n",
      "3 1\n",
      "17 0\n",
      "30 6\n",
      "4 2\n",
      "17 16\n",
      "20 0\n",
      "1 1\n",
      "10 2\n",
      "3 1\n",
      "0 0\n",
      "45 35\n",
      "11 38\n",
      "12 30\n",
      "11 2\n",
      "15 17\n",
      "11 2\n",
      "10 2\n",
      "5 0\n",
      "6 6\n",
      "3 123\n",
      "7 271\n",
      "17 22\n",
      "13 13\n",
      "11 77\n",
      "16 1\n",
      "10 2\n",
      "3 0\n",
      "27 15\n",
      "5 15\n",
      "27 1\n",
      "12 40\n",
      "5 18\n",
      "3 11\n",
      "12 0\n",
      "25 33\n",
      "5 7\n",
      "17 2\n",
      "10 20\n",
      "2 10\n",
      "4 8\n",
      "51 30\n",
      "34 58\n",
      "7 10\n",
      "38 8\n",
      "25 1\n",
      "5 11\n",
      "18 9\n",
      "10 15\n",
      "10 0\n",
      "11 1\n",
      "32 16\n",
      "13 39\n",
      "16 7\n",
      "21 20\n",
      "6 1\n",
      "58 16\n",
      "10 107\n",
      "61 5\n",
      "28 11\n",
      "18 12\n",
      "11 97\n",
      "2 0\n",
      "7 101\n",
      "9 42\n",
      "5 19\n",
      "23 0\n",
      "23 20\n",
      "19 14\n",
      "8 3\n",
      "16 1\n",
      "5 16\n",
      "10 51\n",
      "19 2\n",
      "3 2\n",
      "14 41\n",
      "14 8\n",
      "7 20\n",
      "14 0\n",
      "11 32\n",
      "14 22\n",
      "11 11\n",
      "8 11\n",
      "8 24\n",
      "14 31\n",
      "24 41\n",
      "6 3\n",
      "6 2\n",
      "8 25\n",
      "9 1\n",
      "55 0\n",
      "31 7\n",
      "8 49\n",
      "23 24\n",
      "16 33\n",
      "27 36\n",
      "5 61\n",
      "6 3\n",
      "19 13\n",
      "3 0\n",
      "11\n"
     ]
    }
   ],
   "source": [
    "parsing_problems = 0\n",
    "for fname in enumerate_dataset_1():\n",
    "    try:\n",
    "        obj = json.load(open(fname))\n",
    "    except ValueError:\n",
    "        parsing_problems += 1\n",
    "        continue\n",
    "    dr, domain_name = os.path.split(fname)\n",
    "    domain_name = domain_name.replace('.har', '')\n",
    "    # print(domain_name)\n",
    "    soup = get_soup( obj )\n",
    "    ln_top = count_links_on_top(soup)\n",
    "    try:\n",
    "        ln_body = count_body_links(soup, domain_name)\n",
    "    except ValueError:\n",
    "        parsing_problems += 1\n",
    "        continue\n",
    "    print(ln_top, ln_body)\n",
    "print(parsing_problems)"
   ]
  },
  {
   "cell_type": "code",
   "execution_count": 10,
   "metadata": {
    "collapsed": false
   },
   "outputs": [
    {
     "data": {
      "text/plain": [
       "'../data/1/www.sciencedirect.com.har'"
      ]
     },
     "execution_count": 10,
     "metadata": {},
     "output_type": "execute_result"
    }
   ],
   "source": [
    "mkfilepath(\"www.sciencedirect.com\")"
   ]
  },
  {
   "cell_type": "code",
   "execution_count": 4,
   "metadata": {
    "collapsed": false
   },
   "outputs": [],
   "source": [
    "x = load_har(\"www.sciencedirect.com\")"
   ]
  },
  {
   "cell_type": "code",
   "execution_count": 5,
   "metadata": {
    "collapsed": false
   },
   "outputs": [
    {
     "data": {
      "text/plain": [
       "'{log: ...}'"
      ]
     },
     "execution_count": 5,
     "metadata": {},
     "output_type": "execute_result"
    }
   ],
   "source": [
    "about(x)"
   ]
  },
  {
   "cell_type": "code",
   "execution_count": 6,
   "metadata": {
    "collapsed": false
   },
   "outputs": [
    {
     "data": {
      "text/plain": [
       "'{pages: ..., creator: ..., version: ..., entries: ...}'"
      ]
     },
     "execution_count": 6,
     "metadata": {},
     "output_type": "execute_result"
    }
   ],
   "source": [
    "about(x['log'])"
   ]
  },
  {
   "cell_type": "code",
   "execution_count": 7,
   "metadata": {
    "collapsed": false
   },
   "outputs": [
    {
     "data": {
      "text/plain": [
       "'<list of length 32>'"
      ]
     },
     "execution_count": 7,
     "metadata": {},
     "output_type": "execute_result"
    }
   ],
   "source": [
    "about(x['log']['entries'])"
   ]
  },
  {
   "cell_type": "code",
   "execution_count": 8,
   "metadata": {
    "collapsed": false
   },
   "outputs": [
    {
     "data": {
      "text/plain": [
       "'{pageref: ..., time: ..., request: ..., timings: ..., startedDateTime: ..., serverIPAddress: ..., response: ..., cache: ..., connection: ...}'"
      ]
     },
     "execution_count": 8,
     "metadata": {},
     "output_type": "execute_result"
    }
   ],
   "source": [
    "about(x['log']['entries'][0])"
   ]
  },
  {
   "cell_type": "code",
   "execution_count": 9,
   "metadata": {
    "collapsed": false
   },
   "outputs": [
    {
     "data": {
      "text/plain": [
       "'{headers: ..., status: ..., _transferSize: ..., cookies: ..., headersSize: ..., httpVersion: ..., bodySize: ..., redirectURL: ..., statusText: ..., content: ...}'"
      ]
     },
     "execution_count": 9,
     "metadata": {},
     "output_type": "execute_result"
    }
   ],
   "source": [
    "about(x['log']['entries'][0]['response'])"
   ]
  },
  {
   "cell_type": "code",
   "execution_count": 10,
   "metadata": {
    "collapsed": false
   },
   "outputs": [
    {
     "data": {
      "text/plain": [
       "'{mimeType: ..., compression: ..., size: ...}'"
      ]
     },
     "execution_count": 10,
     "metadata": {},
     "output_type": "execute_result"
    }
   ],
   "source": [
    "about(x['log']['entries'][0]['response']['content'])"
   ]
  },
  {
   "cell_type": "code",
   "execution_count": 11,
   "metadata": {
    "collapsed": false
   },
   "outputs": [
    {
     "data": {
      "text/plain": [
       "0"
      ]
     },
     "execution_count": 11,
     "metadata": {},
     "output_type": "execute_result"
    }
   ],
   "source": [
    "x['log']['entries'][0]['response']['content']['compression']"
   ]
  },
  {
   "cell_type": "code",
   "execution_count": 12,
   "metadata": {
    "collapsed": false
   },
   "outputs": [
    {
     "data": {
      "text/plain": [
       "'{mimeType: ..., compression: ..., size: ...}'"
      ]
     },
     "execution_count": 12,
     "metadata": {},
     "output_type": "execute_result"
    }
   ],
   "source": [
    "about(x['log']['entries'][0]['response']['content'])"
   ]
  },
  {
   "cell_type": "code",
   "execution_count": 13,
   "metadata": {
    "collapsed": false
   },
   "outputs": [
    {
     "data": {
      "text/plain": [
       "301"
      ]
     },
     "execution_count": 13,
     "metadata": {},
     "output_type": "execute_result"
    }
   ],
   "source": [
    "x['log']['entries'][0]['response']['status']"
   ]
  },
  {
   "cell_type": "code",
   "execution_count": 14,
   "metadata": {
    "collapsed": false
   },
   "outputs": [
    {
     "data": {
      "text/plain": [
       "'<!DOCTYPE html>\\n<html class=\"no-js no-svg\" lang=\"en-US\">\\n<head>\\n    <title>ScienceDirect.com | Scien'"
      ]
     },
     "execution_count": 14,
     "metadata": {},
     "output_type": "execute_result"
    }
   ],
   "source": [
    "get_first_entry_content(x)[:100]"
   ]
  },
  {
   "cell_type": "code",
   "execution_count": 15,
   "metadata": {
    "collapsed": true
   },
   "outputs": [],
   "source": [
    "cnt = get_first_entry_content(x)"
   ]
  },
  {
   "cell_type": "code",
   "execution_count": 16,
   "metadata": {
    "collapsed": false
   },
   "outputs": [],
   "source": [
    "from bs4 import BeautifulSoup\n",
    "soup = BeautifulSoup(cnt, 'html.parser')"
   ]
  },
  {
   "cell_type": "code",
   "execution_count": 17,
   "metadata": {
    "collapsed": false
   },
   "outputs": [
    {
     "data": {
      "text/plain": [
       "(14, 4)"
      ]
     },
     "execution_count": 17,
     "metadata": {},
     "output_type": "execute_result"
    }
   ],
   "source": [
    "len( soup.find_all('script') ), len( soup.head.find_all('script') )"
   ]
  },
  {
   "cell_type": "code",
   "execution_count": 18,
   "metadata": {
    "collapsed": false
   },
   "outputs": [
    {
     "data": {
      "text/plain": [
       "5"
      ]
     },
     "execution_count": 18,
     "metadata": {},
     "output_type": "execute_result"
    }
   ],
   "source": [
    "count_links_on_top(soup)"
   ]
  },
  {
   "cell_type": "code",
   "execution_count": 22,
   "metadata": {
    "collapsed": false
   },
   "outputs": [
    {
     "name": "stdout",
     "output_type": "stream",
     "text": [
      "sciencedirect sdfestaticassets-us-east-1.sciencedirectassets.com\n",
      "sciencedirect cdn.els-cdn.com\n",
      "sciencedirect sdfestaticassets-us-east-1.sciencedirectassets.com\n",
      "sciencedirect assets.adobedtm.com\n"
     ]
    },
    {
     "data": {
      "text/plain": [
       "2"
      ]
     },
     "execution_count": 22,
     "metadata": {},
     "output_type": "execute_result"
    }
   ],
   "source": [
    "count_body_links(soup, 'www.sciencedirect.com')"
   ]
  },
  {
   "cell_type": "code",
   "execution_count": null,
   "metadata": {
    "collapsed": true
   },
   "outputs": [],
   "source": []
  }
 ],
 "metadata": {
  "kernelspec": {
   "display_name": "Python 3",
   "language": "python",
   "name": "python3"
  },
  "language_info": {
   "codemirror_mode": {
    "name": "ipython",
    "version": 3
   },
   "file_extension": ".py",
   "mimetype": "text/x-python",
   "name": "python",
   "nbconvert_exporter": "python",
   "pygments_lexer": "ipython3",
   "version": "3.4.3"
  }
 },
 "nbformat": 4,
 "nbformat_minor": 0
}
